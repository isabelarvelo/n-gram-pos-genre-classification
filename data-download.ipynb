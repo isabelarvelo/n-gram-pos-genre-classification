{
 "cells": [
  {
   "cell_type": "markdown",
   "metadata": {},
   "source": [
    "# Raw Data Download\n",
    "\n",
    "The raw data used in this analysis is too large to upload to GitHub as a csv. The code below will allow you to download the data from the source and save it to your local machine. \n"
   ]
  },
  {
   "cell_type": "code",
   "execution_count": 2,
   "metadata": {},
   "outputs": [
    {
     "name": "stderr",
     "output_type": "stream",
     "text": [
      "/Users/isabelarvelo/Desktop/spring_24/nlp/final_project/final_proj_env/lib/python3.9/site-packages/tqdm/auto.py:21: TqdmWarning: IProgress not found. Please update jupyter and ipywidgets. See https://ipywidgets.readthedocs.io/en/stable/user_install.html\n",
      "  from .autonotebook import tqdm as notebook_tqdm\n"
     ]
    }
   ],
   "source": [
    "# Import necessary libraries\n",
    "\n",
    "from datasets import load_dataset\n",
    "\n",
    "import pandas as pd"
   ]
  },
  {
   "cell_type": "code",
   "execution_count": null,
   "metadata": {},
   "outputs": [],
   "source": [
    "# Load the dataset\n",
    "dataset_1 = load_dataset(\"sedthh/gutenberg_english\", split='train[1:5000]')\n",
    "# Convert the dataset to a pandas dataframe\n",
    "df_1 = dataset_1.to_pandas()\n",
    "# Save data as a csv \n",
    "df_1.to_csv(\"gutenberg_books_raw.csv\")"
   ]
  },
  {
   "cell_type": "code",
   "execution_count": null,
   "metadata": {},
   "outputs": [],
   "source": [
    "# Load the dataset\n",
    "dataset_2 = load_dataset(\"sedthh/gutenberg_english\", split='train[6000:11000]')\n",
    "# Convert the dataset to a pandas dataframe\n",
    "df_2 = dataset_2.to_pandas()\n",
    "# Save data as a csv \n",
    "df_2.to_csv(\"gutenberg_books_raw_2.csv\")"
   ]
  }
 ],
 "metadata": {
  "kernelspec": {
   "display_name": "final_proj_env",
   "language": "python",
   "name": "python3"
  },
  "language_info": {
   "codemirror_mode": {
    "name": "ipython",
    "version": 3
   },
   "file_extension": ".py",
   "mimetype": "text/x-python",
   "name": "python",
   "nbconvert_exporter": "python",
   "pygments_lexer": "ipython3",
   "version": "3.9.6"
  }
 },
 "nbformat": 4,
 "nbformat_minor": 2
}
